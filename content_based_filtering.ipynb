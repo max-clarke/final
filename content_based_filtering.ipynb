{
 "cells": [
  {
   "cell_type": "code",
   "execution_count": 1,
   "metadata": {},
   "outputs": [
    {
     "name": "stdout",
     "output_type": "stream",
     "text": [
      "connecting to postgres...\n",
      "\n",
      "<connection object at 0x7fc7a9fa6768; dsn: 'user=max password=xxx dbname=final host=127.0.0.1 port=5432', closed: 0>\n"
     ]
    }
   ],
   "source": [
    "import psycopg2\n",
    "import numpy as np\n",
    "\n",
    "print('connecting to postgres...')\n",
    "connection = psycopg2.connect(user=\"max\",\n",
    "                              password=\"password\",\n",
    "                              host=\"127.0.0.1\",\n",
    "                              port=\"5432\",\n",
    "                              database=\"final\")\n",
    "print()\n",
    "print(connection)\n",
    "cursor = connection.cursor()"
   ]
  },
  {
   "cell_type": "code",
   "execution_count": 26,
   "metadata": {},
   "outputs": [],
   "source": [
    "q = \"\"\"\n",
    "select * from spotify_features;\n",
    "\"\"\"\n",
    "\n",
    "cursor.execute(q)"
   ]
  },
  {
   "cell_type": "code",
   "execution_count": 27,
   "metadata": {},
   "outputs": [],
   "source": [
    "spotify = cursor.fetchall()"
   ]
  },
  {
   "cell_type": "code",
   "execution_count": 28,
   "metadata": {},
   "outputs": [
    {
     "name": "stdout",
     "output_type": "stream",
     "text": [
      "('...And You Will Know Us by the Trail of Dead Novena Without Faith', '...and you will know us by the trail of dead novena without faith', Decimal('0.155'), Decimal('0.568'), Decimal('2'), Decimal('-10.029'), Decimal('1'), Decimal('0.0372'), Decimal('0.00201'), Decimal('0.885'), Decimal('0.128'), Decimal('0.0398'), Decimal('168.419'), 'spotify:track:1yvp6AHRwXifM9pDAIrRwD', 'https://api.spotify.com/v1/audio-analysis/1yvp6AHRwXifM9pDAIrRwD', Decimal('503973'), 4)\n"
     ]
    }
   ],
   "source": [
    "print(spotify[500])"
   ]
  },
  {
   "cell_type": "markdown",
   "metadata": {},
   "source": [
    "so that's pretty messy. Let's load it up into a dataframe"
   ]
  },
  {
   "cell_type": "code",
   "execution_count": 34,
   "metadata": {},
   "outputs": [
    {
     "data": {
      "text/html": [
       "<div>\n",
       "<style scoped>\n",
       "    .dataframe tbody tr th:only-of-type {\n",
       "        vertical-align: middle;\n",
       "    }\n",
       "\n",
       "    .dataframe tbody tr th {\n",
       "        vertical-align: top;\n",
       "    }\n",
       "\n",
       "    .dataframe thead th {\n",
       "        text-align: right;\n",
       "    }\n",
       "</style>\n",
       "<table border=\"1\" class=\"dataframe\">\n",
       "  <thead>\n",
       "    <tr style=\"text-align: right;\">\n",
       "      <th></th>\n",
       "      <th>lastfm_artist_track</th>\n",
       "      <th>spotify_artist_track</th>\n",
       "      <th>danceability</th>\n",
       "      <th>energy</th>\n",
       "      <th>key</th>\n",
       "      <th>loudness</th>\n",
       "      <th>mode</th>\n",
       "      <th>speechiness</th>\n",
       "      <th>acousticness</th>\n",
       "      <th>instrumentalness</th>\n",
       "      <th>liveness</th>\n",
       "      <th>valence</th>\n",
       "      <th>tempo</th>\n",
       "      <th>uri</th>\n",
       "      <th>analysis_url</th>\n",
       "      <th>duration_ms</th>\n",
       "      <th>time_signature</th>\n",
       "    </tr>\n",
       "  </thead>\n",
       "  <tbody>\n",
       "    <tr>\n",
       "      <th>0</th>\n",
       "      <td>(Sandy) Alex G String</td>\n",
       "      <td>(sandy) alex g string</td>\n",
       "      <td>0.636</td>\n",
       "      <td>0.567</td>\n",
       "      <td>9.0</td>\n",
       "      <td>-6.003</td>\n",
       "      <td>1.0</td>\n",
       "      <td>0.0362</td>\n",
       "      <td>0.0593</td>\n",
       "      <td>0.0484</td>\n",
       "      <td>0.0815</td>\n",
       "      <td>0.370</td>\n",
       "      <td>105.625</td>\n",
       "      <td>spotify:track:5QUcQ7OmRTzGAZT6IkhMO8</td>\n",
       "      <td>https://api.spotify.com/v1/audio-analysis/5QUc...</td>\n",
       "      <td>294867.0</td>\n",
       "      <td>4.0</td>\n",
       "    </tr>\n",
       "    <tr>\n",
       "      <th>1</th>\n",
       "      <td>(Sandy) Alex G Sum Secret</td>\n",
       "      <td>(sandy) alex g sum secret</td>\n",
       "      <td>0.654</td>\n",
       "      <td>0.502</td>\n",
       "      <td>3.0</td>\n",
       "      <td>-11.275</td>\n",
       "      <td>1.0</td>\n",
       "      <td>0.0270</td>\n",
       "      <td>0.7520</td>\n",
       "      <td>0.7310</td>\n",
       "      <td>0.3820</td>\n",
       "      <td>0.674</td>\n",
       "      <td>91.950</td>\n",
       "      <td>spotify:track:6GC4JLu0WBhhrInCdGNlCq</td>\n",
       "      <td>https://api.spotify.com/v1/audio-analysis/6GC4...</td>\n",
       "      <td>219783.0</td>\n",
       "      <td>4.0</td>\n",
       "    </tr>\n",
       "    <tr>\n",
       "      <th>2</th>\n",
       "      <td>(Sandy) Alex G Thorns</td>\n",
       "      <td>(sandy) alex g thorns</td>\n",
       "      <td>0.569</td>\n",
       "      <td>0.306</td>\n",
       "      <td>2.0</td>\n",
       "      <td>-14.128</td>\n",
       "      <td>1.0</td>\n",
       "      <td>0.0363</td>\n",
       "      <td>0.3980</td>\n",
       "      <td>0.0195</td>\n",
       "      <td>0.1410</td>\n",
       "      <td>0.492</td>\n",
       "      <td>125.923</td>\n",
       "      <td>spotify:track:7xMWwvpUjihrid15USMtlw</td>\n",
       "      <td>https://api.spotify.com/v1/audio-analysis/7xMW...</td>\n",
       "      <td>170108.0</td>\n",
       "      <td>3.0</td>\n",
       "    </tr>\n",
       "    <tr>\n",
       "      <th>3</th>\n",
       "      <td>(Sandy) Alex G Trick</td>\n",
       "      <td>(sandy) alex g mary</td>\n",
       "      <td>0.693</td>\n",
       "      <td>0.467</td>\n",
       "      <td>4.0</td>\n",
       "      <td>-9.558</td>\n",
       "      <td>0.0</td>\n",
       "      <td>0.0430</td>\n",
       "      <td>0.0497</td>\n",
       "      <td>0.4520</td>\n",
       "      <td>0.1070</td>\n",
       "      <td>0.402</td>\n",
       "      <td>105.958</td>\n",
       "      <td>spotify:track:4q8CkKKnXQxiH4bTVKCm1I</td>\n",
       "      <td>https://api.spotify.com/v1/audio-analysis/4q8C...</td>\n",
       "      <td>197733.0</td>\n",
       "      <td>4.0</td>\n",
       "    </tr>\n",
       "    <tr>\n",
       "      <th>4</th>\n",
       "      <td>(Sandy) Alex G Tripper</td>\n",
       "      <td>(sandy) alex g tripper</td>\n",
       "      <td>0.717</td>\n",
       "      <td>0.297</td>\n",
       "      <td>0.0</td>\n",
       "      <td>-13.305</td>\n",
       "      <td>1.0</td>\n",
       "      <td>0.0447</td>\n",
       "      <td>0.9920</td>\n",
       "      <td>0.8920</td>\n",
       "      <td>0.1260</td>\n",
       "      <td>0.653</td>\n",
       "      <td>119.875</td>\n",
       "      <td>spotify:track:7Bc55L9HYcBBulGlSLAoR0</td>\n",
       "      <td>https://api.spotify.com/v1/audio-analysis/7Bc5...</td>\n",
       "      <td>42133.0</td>\n",
       "      <td>5.0</td>\n",
       "    </tr>\n",
       "  </tbody>\n",
       "</table>\n",
       "</div>"
      ],
      "text/plain": [
       "         lastfm_artist_track       spotify_artist_track  danceability  energy  \\\n",
       "0      (Sandy) Alex G String      (sandy) alex g string         0.636   0.567   \n",
       "1  (Sandy) Alex G Sum Secret  (sandy) alex g sum secret         0.654   0.502   \n",
       "2      (Sandy) Alex G Thorns      (sandy) alex g thorns         0.569   0.306   \n",
       "3       (Sandy) Alex G Trick        (sandy) alex g mary         0.693   0.467   \n",
       "4     (Sandy) Alex G Tripper     (sandy) alex g tripper         0.717   0.297   \n",
       "\n",
       "   key  loudness  mode  speechiness  acousticness  instrumentalness  liveness  \\\n",
       "0  9.0    -6.003   1.0       0.0362        0.0593            0.0484    0.0815   \n",
       "1  3.0   -11.275   1.0       0.0270        0.7520            0.7310    0.3820   \n",
       "2  2.0   -14.128   1.0       0.0363        0.3980            0.0195    0.1410   \n",
       "3  4.0    -9.558   0.0       0.0430        0.0497            0.4520    0.1070   \n",
       "4  0.0   -13.305   1.0       0.0447        0.9920            0.8920    0.1260   \n",
       "\n",
       "   valence    tempo                                   uri  \\\n",
       "0    0.370  105.625  spotify:track:5QUcQ7OmRTzGAZT6IkhMO8   \n",
       "1    0.674   91.950  spotify:track:6GC4JLu0WBhhrInCdGNlCq   \n",
       "2    0.492  125.923  spotify:track:7xMWwvpUjihrid15USMtlw   \n",
       "3    0.402  105.958  spotify:track:4q8CkKKnXQxiH4bTVKCm1I   \n",
       "4    0.653  119.875  spotify:track:7Bc55L9HYcBBulGlSLAoR0   \n",
       "\n",
       "                                        analysis_url  duration_ms  \\\n",
       "0  https://api.spotify.com/v1/audio-analysis/5QUc...     294867.0   \n",
       "1  https://api.spotify.com/v1/audio-analysis/6GC4...     219783.0   \n",
       "2  https://api.spotify.com/v1/audio-analysis/7xMW...     170108.0   \n",
       "3  https://api.spotify.com/v1/audio-analysis/4q8C...     197733.0   \n",
       "4  https://api.spotify.com/v1/audio-analysis/7Bc5...      42133.0   \n",
       "\n",
       "   time_signature  \n",
       "0             4.0  \n",
       "1             4.0  \n",
       "2             3.0  \n",
       "3             4.0  \n",
       "4             5.0  "
      ]
     },
     "execution_count": 34,
     "metadata": {},
     "output_type": "execute_result"
    }
   ],
   "source": [
    "import pandas as pd\n",
    "import numpy as np\n",
    "\n",
    "columns = [\n",
    "    'lastfm_artist_track',\n",
    "    'spotify_artist_track',\n",
    "    'danceability',\n",
    "    'energy',\n",
    "    'key',\n",
    "    'loudness',\n",
    "    'mode', \n",
    "    'speechiness',\n",
    "    'acousticness',\n",
    "    'instrumentalness',\n",
    "    'liveness',\n",
    "    'valence',\n",
    "    'tempo',\n",
    "    'uri',\n",
    "    'analysis_url', \n",
    "    'duration_ms',\n",
    "    'time_signature' \n",
    "]\n",
    "\n",
    "df = pd.DataFrame(spotify, columns=columns)\n",
    "\n",
    "# want to convert SQL Decimal(val) to float(val)\n",
    "feats = [\n",
    "    'danceability',\n",
    "    'energy',\n",
    "    'key',\n",
    "    'loudness',\n",
    "    'mode', \n",
    "    'speechiness',\n",
    "    'acousticness',\n",
    "    'instrumentalness',\n",
    "    'liveness',\n",
    "    'valence',\n",
    "    'tempo', \n",
    "    'duration_ms',\n",
    "    'time_signature' \n",
    "]\n",
    "\n",
    "df[feats] = df[feats].astype(float)\n",
    "\n",
    "\n",
    "df.head()"
   ]
  },
  {
   "cell_type": "code",
   "execution_count": 30,
   "metadata": {},
   "outputs": [],
   "source": [
    "X = df[feats]\n",
    "names = df.spotify_artist_track"
   ]
  },
  {
   "cell_type": "markdown",
   "metadata": {},
   "source": [
    "### baseline model: distance"
   ]
  },
  {
   "cell_type": "code",
   "execution_count": 31,
   "metadata": {},
   "outputs": [],
   "source": [
    "# start by standard scalar\n",
    "from sklearn.preprocessing import minmax_scale\n",
    "\n",
    "X_scaled = minmax_scale(X, feature_range=(0, 10))"
   ]
  },
  {
   "cell_type": "code",
   "execution_count": 33,
   "metadata": {},
   "outputs": [
    {
     "data": {
      "text/plain": [
       "1000"
      ]
     },
     "execution_count": 33,
     "metadata": {},
     "output_type": "execute_result"
    }
   ],
   "source": [
    "len(X)"
   ]
  },
  {
   "cell_type": "code",
   "execution_count": null,
   "metadata": {},
   "outputs": [],
   "source": []
  }
 ],
 "metadata": {
  "kernelspec": {
   "display_name": "Python 3",
   "language": "python",
   "name": "python3"
  },
  "language_info": {
   "codemirror_mode": {
    "name": "ipython",
    "version": 3
   },
   "file_extension": ".py",
   "mimetype": "text/x-python",
   "name": "python",
   "nbconvert_exporter": "python",
   "pygments_lexer": "ipython3",
   "version": "3.7.1"
  }
 },
 "nbformat": 4,
 "nbformat_minor": 2
}
