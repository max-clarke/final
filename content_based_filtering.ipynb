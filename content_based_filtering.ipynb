{
 "cells": [
  {
   "cell_type": "code",
   "execution_count": 31,
   "metadata": {},
   "outputs": [
    {
     "name": "stdout",
     "output_type": "stream",
     "text": [
      "connecting to postgres...\n",
      "\n",
      "<connection object at 0x7eff6b4a7898; dsn: 'user=max password=xxx dbname=final host=127.0.0.1 port=5432', closed: 0>\n"
     ]
    }
   ],
   "source": [
    "import psycopg2\n",
    "import numpy as np\n",
    "\n",
    "print('connecting to postgres...')\n",
    "connection = psycopg2.connect(user=\"max\",\n",
    "                              password=\"password\",\n",
    "                              host=\"127.0.0.1\",\n",
    "                              port=\"5432\",\n",
    "                              database=\"final\")\n",
    "print()\n",
    "print(connection)\n",
    "cursor = connection.cursor()"
   ]
  },
  {
   "cell_type": "code",
   "execution_count": 32,
   "metadata": {},
   "outputs": [],
   "source": [
    "q = \"\"\"\n",
    "select * from popular_spotify_features;\n",
    "\"\"\"\n",
    "\n",
    "cursor.execute(q)"
   ]
  },
  {
   "cell_type": "code",
   "execution_count": 33,
   "metadata": {},
   "outputs": [],
   "source": [
    "spotify = cursor.fetchall()"
   ]
  },
  {
   "cell_type": "code",
   "execution_count": 34,
   "metadata": {},
   "outputs": [
    {
     "data": {
      "text/plain": [
       "27787"
      ]
     },
     "execution_count": 34,
     "metadata": {},
     "output_type": "execute_result"
    }
   ],
   "source": [
    "len(spotify)"
   ]
  },
  {
   "cell_type": "markdown",
   "metadata": {},
   "source": [
    "so that's pretty messy. Let's load it up into a dataframe"
   ]
  },
  {
   "cell_type": "code",
   "execution_count": 35,
   "metadata": {},
   "outputs": [
    {
     "data": {
      "text/html": [
       "<div>\n",
       "<style scoped>\n",
       "    .dataframe tbody tr th:only-of-type {\n",
       "        vertical-align: middle;\n",
       "    }\n",
       "\n",
       "    .dataframe tbody tr th {\n",
       "        vertical-align: top;\n",
       "    }\n",
       "\n",
       "    .dataframe thead th {\n",
       "        text-align: right;\n",
       "    }\n",
       "</style>\n",
       "<table border=\"1\" class=\"dataframe\">\n",
       "  <thead>\n",
       "    <tr style=\"text-align: right;\">\n",
       "      <th></th>\n",
       "      <th>lastfm_artist_track</th>\n",
       "      <th>spotify_artist_track</th>\n",
       "      <th>danceability</th>\n",
       "      <th>energy</th>\n",
       "      <th>key</th>\n",
       "      <th>loudness</th>\n",
       "      <th>mode</th>\n",
       "      <th>speechiness</th>\n",
       "      <th>acousticness</th>\n",
       "      <th>instrumentalness</th>\n",
       "      <th>liveness</th>\n",
       "      <th>valence</th>\n",
       "      <th>tempo</th>\n",
       "      <th>uri</th>\n",
       "      <th>analysis_url</th>\n",
       "      <th>duration_ms</th>\n",
       "      <th>time_signature</th>\n",
       "    </tr>\n",
       "    <tr>\n",
       "      <th>spotify_artist_track</th>\n",
       "      <th></th>\n",
       "      <th></th>\n",
       "      <th></th>\n",
       "      <th></th>\n",
       "      <th></th>\n",
       "      <th></th>\n",
       "      <th></th>\n",
       "      <th></th>\n",
       "      <th></th>\n",
       "      <th></th>\n",
       "      <th></th>\n",
       "      <th></th>\n",
       "      <th></th>\n",
       "      <th></th>\n",
       "      <th></th>\n",
       "      <th></th>\n",
       "      <th></th>\n",
       "    </tr>\n",
       "  </thead>\n",
       "  <tbody>\n",
       "    <tr>\n",
       "      <th>!!! am/fm</th>\n",
       "      <td>!!! AM/FM</td>\n",
       "      <td>!!! am/fm</td>\n",
       "      <td>0.796</td>\n",
       "      <td>0.908</td>\n",
       "      <td>4.0</td>\n",
       "      <td>-6.188</td>\n",
       "      <td>0.0</td>\n",
       "      <td>0.0834</td>\n",
       "      <td>0.03870</td>\n",
       "      <td>0.3240</td>\n",
       "      <td>0.0450</td>\n",
       "      <td>0.676</td>\n",
       "      <td>115.981</td>\n",
       "      <td>spotify:track:0Y9SHiZGeXgShe4SKYl5sw</td>\n",
       "      <td>https://api.spotify.com/v1/audio-analysis/0Y9S...</td>\n",
       "      <td>295173.0</td>\n",
       "      <td>4.0</td>\n",
       "    </tr>\n",
       "    <tr>\n",
       "      <th>!!! all my heroes are weirdos</th>\n",
       "      <td>!!! All My Heroes Are Weirdos</td>\n",
       "      <td>!!! all my heroes are weirdos</td>\n",
       "      <td>0.505</td>\n",
       "      <td>0.992</td>\n",
       "      <td>4.0</td>\n",
       "      <td>-5.891</td>\n",
       "      <td>0.0</td>\n",
       "      <td>0.0918</td>\n",
       "      <td>0.00134</td>\n",
       "      <td>0.0537</td>\n",
       "      <td>0.0766</td>\n",
       "      <td>0.609</td>\n",
       "      <td>122.345</td>\n",
       "      <td>spotify:track:2nTla8UUqmBNKfcOvKc4bN</td>\n",
       "      <td>https://api.spotify.com/v1/audio-analysis/2nTl...</td>\n",
       "      <td>184080.0</td>\n",
       "      <td>4.0</td>\n",
       "    </tr>\n",
       "    <tr>\n",
       "      <th>!!! all u writers</th>\n",
       "      <td>!!! All U Writers</td>\n",
       "      <td>!!! all u writers</td>\n",
       "      <td>0.874</td>\n",
       "      <td>0.814</td>\n",
       "      <td>11.0</td>\n",
       "      <td>-6.873</td>\n",
       "      <td>0.0</td>\n",
       "      <td>0.0450</td>\n",
       "      <td>0.00412</td>\n",
       "      <td>0.4640</td>\n",
       "      <td>0.0690</td>\n",
       "      <td>0.741</td>\n",
       "      <td>121.976</td>\n",
       "      <td>spotify:track:2pPhbWZBm3Q6b35jV691qG</td>\n",
       "      <td>https://api.spotify.com/v1/audio-analysis/2pPh...</td>\n",
       "      <td>322623.0</td>\n",
       "      <td>4.0</td>\n",
       "    </tr>\n",
       "    <tr>\n",
       "      <th>!!! bend over beethoven</th>\n",
       "      <td>!!! Bend Over Beethoven</td>\n",
       "      <td>!!! bend over beethoven</td>\n",
       "      <td>0.630</td>\n",
       "      <td>0.927</td>\n",
       "      <td>9.0</td>\n",
       "      <td>-6.540</td>\n",
       "      <td>1.0</td>\n",
       "      <td>0.0457</td>\n",
       "      <td>0.00310</td>\n",
       "      <td>0.7390</td>\n",
       "      <td>0.1820</td>\n",
       "      <td>0.611</td>\n",
       "      <td>120.654</td>\n",
       "      <td>spotify:track:5PRM1a5qRJpsFzkz8VyRUY</td>\n",
       "      <td>https://api.spotify.com/v1/audio-analysis/5PRM...</td>\n",
       "      <td>486813.0</td>\n",
       "      <td>4.0</td>\n",
       "    </tr>\n",
       "    <tr>\n",
       "      <th>!!! break in case of anything</th>\n",
       "      <td>!!! Break in Case of Anything</td>\n",
       "      <td>!!! break in case of anything</td>\n",
       "      <td>0.708</td>\n",
       "      <td>0.913</td>\n",
       "      <td>4.0</td>\n",
       "      <td>-4.599</td>\n",
       "      <td>0.0</td>\n",
       "      <td>0.1040</td>\n",
       "      <td>0.02840</td>\n",
       "      <td>0.8170</td>\n",
       "      <td>0.3040</td>\n",
       "      <td>0.509</td>\n",
       "      <td>106.987</td>\n",
       "      <td>spotify:track:7owkuXT1aSBjCD3PoyHdDQ</td>\n",
       "      <td>https://api.spotify.com/v1/audio-analysis/7owk...</td>\n",
       "      <td>219840.0</td>\n",
       "      <td>4.0</td>\n",
       "    </tr>\n",
       "  </tbody>\n",
       "</table>\n",
       "</div>"
      ],
      "text/plain": [
       "                                         lastfm_artist_track  \\\n",
       "spotify_artist_track                                           \n",
       "!!! am/fm                                          !!! AM/FM   \n",
       "!!! all my heroes are weirdos  !!! All My Heroes Are Weirdos   \n",
       "!!! all u writers                          !!! All U Writers   \n",
       "!!! bend over beethoven              !!! Bend Over Beethoven   \n",
       "!!! break in case of anything  !!! Break in Case of Anything   \n",
       "\n",
       "                                        spotify_artist_track  danceability  \\\n",
       "spotify_artist_track                                                         \n",
       "!!! am/fm                                          !!! am/fm         0.796   \n",
       "!!! all my heroes are weirdos  !!! all my heroes are weirdos         0.505   \n",
       "!!! all u writers                          !!! all u writers         0.874   \n",
       "!!! bend over beethoven              !!! bend over beethoven         0.630   \n",
       "!!! break in case of anything  !!! break in case of anything         0.708   \n",
       "\n",
       "                               energy   key  loudness  mode  speechiness  \\\n",
       "spotify_artist_track                                                       \n",
       "!!! am/fm                       0.908   4.0    -6.188   0.0       0.0834   \n",
       "!!! all my heroes are weirdos   0.992   4.0    -5.891   0.0       0.0918   \n",
       "!!! all u writers               0.814  11.0    -6.873   0.0       0.0450   \n",
       "!!! bend over beethoven         0.927   9.0    -6.540   1.0       0.0457   \n",
       "!!! break in case of anything   0.913   4.0    -4.599   0.0       0.1040   \n",
       "\n",
       "                               acousticness  instrumentalness  liveness  \\\n",
       "spotify_artist_track                                                      \n",
       "!!! am/fm                           0.03870            0.3240    0.0450   \n",
       "!!! all my heroes are weirdos       0.00134            0.0537    0.0766   \n",
       "!!! all u writers                   0.00412            0.4640    0.0690   \n",
       "!!! bend over beethoven             0.00310            0.7390    0.1820   \n",
       "!!! break in case of anything       0.02840            0.8170    0.3040   \n",
       "\n",
       "                               valence    tempo  \\\n",
       "spotify_artist_track                              \n",
       "!!! am/fm                        0.676  115.981   \n",
       "!!! all my heroes are weirdos    0.609  122.345   \n",
       "!!! all u writers                0.741  121.976   \n",
       "!!! bend over beethoven          0.611  120.654   \n",
       "!!! break in case of anything    0.509  106.987   \n",
       "\n",
       "                                                                uri  \\\n",
       "spotify_artist_track                                                  \n",
       "!!! am/fm                      spotify:track:0Y9SHiZGeXgShe4SKYl5sw   \n",
       "!!! all my heroes are weirdos  spotify:track:2nTla8UUqmBNKfcOvKc4bN   \n",
       "!!! all u writers              spotify:track:2pPhbWZBm3Q6b35jV691qG   \n",
       "!!! bend over beethoven        spotify:track:5PRM1a5qRJpsFzkz8VyRUY   \n",
       "!!! break in case of anything  spotify:track:7owkuXT1aSBjCD3PoyHdDQ   \n",
       "\n",
       "                                                                    analysis_url  \\\n",
       "spotify_artist_track                                                               \n",
       "!!! am/fm                      https://api.spotify.com/v1/audio-analysis/0Y9S...   \n",
       "!!! all my heroes are weirdos  https://api.spotify.com/v1/audio-analysis/2nTl...   \n",
       "!!! all u writers              https://api.spotify.com/v1/audio-analysis/2pPh...   \n",
       "!!! bend over beethoven        https://api.spotify.com/v1/audio-analysis/5PRM...   \n",
       "!!! break in case of anything  https://api.spotify.com/v1/audio-analysis/7owk...   \n",
       "\n",
       "                               duration_ms  time_signature  \n",
       "spotify_artist_track                                        \n",
       "!!! am/fm                         295173.0             4.0  \n",
       "!!! all my heroes are weirdos     184080.0             4.0  \n",
       "!!! all u writers                 322623.0             4.0  \n",
       "!!! bend over beethoven           486813.0             4.0  \n",
       "!!! break in case of anything     219840.0             4.0  "
      ]
     },
     "execution_count": 35,
     "metadata": {},
     "output_type": "execute_result"
    }
   ],
   "source": [
    "import pandas as pd\n",
    "import numpy as np\n",
    "\n",
    "columns = [\n",
    "    'lastfm_artist_track',\n",
    "    'spotify_artist_track',\n",
    "    'danceability',\n",
    "    'energy',\n",
    "    'key',\n",
    "    'loudness',\n",
    "    'mode', \n",
    "    'speechiness',\n",
    "    'acousticness',\n",
    "    'instrumentalness',\n",
    "    'liveness',\n",
    "    'valence',\n",
    "    'tempo',\n",
    "    'uri',\n",
    "    'analysis_url', \n",
    "    'duration_ms',\n",
    "    'time_signature' \n",
    "]\n",
    "\n",
    "df = pd.DataFrame(spotify, columns=columns)\n",
    "\n",
    "# want to convert SQL Decimal(val) to float(val)\n",
    "feats = [\n",
    "    'danceability',\n",
    "    'energy',\n",
    "    'key',\n",
    "    'loudness',\n",
    "    'mode', \n",
    "    'speechiness',\n",
    "    'acousticness',\n",
    "    'instrumentalness',\n",
    "    'liveness',\n",
    "    'valence',\n",
    "    'tempo', \n",
    "    'duration_ms',\n",
    "    'time_signature' \n",
    "]\n",
    "\n",
    "df[feats] = df[feats].astype(float)\n",
    "df = df.drop_duplicates('spotify_artist_track')\n",
    "df.index = df['spotify_artist_track']\n",
    "df.head()"
   ]
  },
  {
   "cell_type": "code",
   "execution_count": 36,
   "metadata": {},
   "outputs": [
    {
     "data": {
      "text/plain": [
       "(26901, 17)"
      ]
     },
     "execution_count": 36,
     "metadata": {},
     "output_type": "execute_result"
    }
   ],
   "source": [
    "df.shape"
   ]
  },
  {
   "cell_type": "code",
   "execution_count": 37,
   "metadata": {},
   "outputs": [],
   "source": [
    "X = df[feats]\n",
    "names = df.spotify_artist_track"
   ]
  },
  {
   "cell_type": "code",
   "execution_count": 38,
   "metadata": {},
   "outputs": [
    {
     "data": {
      "text/plain": [
       "(26901, 17)"
      ]
     },
     "execution_count": 38,
     "metadata": {},
     "output_type": "execute_result"
    }
   ],
   "source": [
    "df.shape"
   ]
  },
  {
   "cell_type": "code",
   "execution_count": null,
   "metadata": {},
   "outputs": [],
   "source": []
  },
  {
   "cell_type": "markdown",
   "metadata": {},
   "source": [
    "### baseline model: distance"
   ]
  },
  {
   "cell_type": "code",
   "execution_count": 39,
   "metadata": {},
   "outputs": [],
   "source": [
    "# start by standard scalar\n",
    "from sklearn.preprocessing import StandardScaler\n",
    "\n",
    "std_scl = StandardScaler()\n",
    "X_scaled = std_scl.fit_transform(X)"
   ]
  },
  {
   "cell_type": "code",
   "execution_count": 40,
   "metadata": {},
   "outputs": [],
   "source": [
    "from data_collection import make_spotify_row\n",
    "def find_n_nearest(song, n=15):\n",
    "    try:\n",
    "        song_feats = df[feats].loc[song].values\n",
    "        song_feats = std_scl.transform(song_feats.reshape(1, -1))\n",
    "    except KeyError:\n",
    "        try:\n",
    "            raw_feats = make_spotify_row(song)\n",
    "        except:\n",
    "            return f'{song} not in database'\n",
    "        raw_feats = list(zip(raw_feats, columns))\n",
    "        \n",
    "        song_feats = []\n",
    "        for t in raw_feats:\n",
    "            value, feature = t\n",
    "            if feature in feats:\n",
    "                song_feats.append(value)\n",
    "        song_feats = np.array(song_feats)\n",
    "        \n",
    "        song_feats = std_scl.transform(song_feats.reshape(1, -1))\n",
    "    \n",
    "    differences = X_scaled - song_feats\n",
    "    distances = map(np.linalg.norm, differences)\n",
    "    sorted_distances = sorted(enumerate(distances), key=lambda t: t[1])\n",
    "    indices = [t[0] for t in sorted_distances]\n",
    "    songs = df.iloc[indices]['spotify_artist_track'].values\n",
    "    \n",
    "    return songs[1:n+1]\n",
    "    "
   ]
  },
  {
   "cell_type": "code",
   "execution_count": 41,
   "metadata": {},
   "outputs": [
    {
     "data": {
      "text/plain": [
       "array(['bell x1 next to you', 'alphawezen speed of light',\n",
       "       'angus & julia stone snow', 'aimee mann looking for nothing',\n",
       "       'autoheart moscow', 'amen dunes time',\n",
       "       'annie lennox walking on broken glass', 'backini go go killer',\n",
       "       'alex cameron candy may',\n",
       "       'au revoir simone another likely story (neon indian remix)',\n",
       "       'big black delta money rain down',\n",
       "       'a.a. bondy i can see the pines are dancing', 'beck jack-ass',\n",
       "       'abra atoms', 'ac/dc hold me back'], dtype=object)"
      ]
     },
     "execution_count": 41,
     "metadata": {},
     "output_type": "execute_result"
    }
   ],
   "source": [
    "find_n_nearest('kurt vile dust bunnies')"
   ]
  },
  {
   "cell_type": "code",
   "execution_count": null,
   "metadata": {},
   "outputs": [],
   "source": [
    "print('blah')"
   ]
  },
  {
   "cell_type": "code",
   "execution_count": 42,
   "metadata": {},
   "outputs": [
    {
     "data": {
      "text/plain": [
       "lastfm_artist_track                 Camera Obscura Break It To You Gently\n",
       "spotify_artist_track                camera obscura break it to you gently\n",
       "danceability                                                        0.502\n",
       "energy                                                              0.816\n",
       "key                                                                     6\n",
       "loudness                                                           -5.361\n",
       "mode                                                                    1\n",
       "speechiness                                                        0.0308\n",
       "acousticness                                                      0.00925\n",
       "instrumentalness                                                  9.6e-05\n",
       "liveness                                                            0.332\n",
       "valence                                                             0.601\n",
       "tempo                                                             129.058\n",
       "uri                                  spotify:track:12s0w4RvX7oNcdF5Tr5Han\n",
       "analysis_url            https://api.spotify.com/v1/audio-analysis/12s0...\n",
       "duration_ms                                                        227953\n",
       "time_signature                                                          4\n",
       "Name: camera obscura break it to you gently, dtype: object"
      ]
     },
     "execution_count": 42,
     "metadata": {},
     "output_type": "execute_result"
    }
   ],
   "source": [
    "df.iloc[-1]"
   ]
  },
  {
   "cell_type": "code",
   "execution_count": null,
   "metadata": {},
   "outputs": [],
   "source": []
  }
 ],
 "metadata": {
  "kernelspec": {
   "display_name": "Python 3",
   "language": "python",
   "name": "python3"
  },
  "language_info": {
   "codemirror_mode": {
    "name": "ipython",
    "version": 3
   },
   "file_extension": ".py",
   "mimetype": "text/x-python",
   "name": "python",
   "nbconvert_exporter": "python",
   "pygments_lexer": "ipython3",
   "version": "3.7.1"
  }
 },
 "nbformat": 4,
 "nbformat_minor": 2
}
