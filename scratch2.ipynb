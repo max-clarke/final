{
 "cells": [
  {
   "cell_type": "markdown",
   "metadata": {},
   "source": [
    "### Retrieving data from postgres"
   ]
  },
  {
   "cell_type": "code",
   "execution_count": 20,
   "metadata": {},
   "outputs": [
    {
     "name": "stdout",
     "output_type": "stream",
     "text": [
      "connecting to postgres...\n",
      "\n",
      "<connection object at 0x7f4088f27d58; dsn: 'user=max password=xxx dbname=final host=127.0.0.1 port=5432', closed: 0>\n"
     ]
    }
   ],
   "source": [
    "import psycopg2\n",
    "import numpy as np\n",
    "\n",
    "print('connecting to postgres...')\n",
    "connection = psycopg2.connect(user=\"max\",\n",
    "                              password=\"password\",\n",
    "                              host=\"127.0.0.1\",\n",
    "                              port=\"5432\",\n",
    "                              database=\"final\")\n",
    "print()\n",
    "print(connection)\n",
    "cursor = connection.cursor()"
   ]
  },
  {
   "cell_type": "code",
   "execution_count": 21,
   "metadata": {},
   "outputs": [],
   "source": [
    "# NEW QUERY\n",
    "\n",
    "# select rows that inlcude songs that are listend to be\n",
    "# at least 3 users\n",
    "\n",
    "q = \"\"\"\n",
    "SELECT arist_track FROM lastfm\n",
    "    GROUP BY arist_track\n",
    "    HAVING COUNT(lastfm_user) > 8 \n",
    ";\n",
    "\"\"\"\n",
    "\n",
    "cursor.execute(q)\n",
    "lastfm_tracks = cursor.fetchall()"
   ]
  },
  {
   "cell_type": "code",
   "execution_count": null,
   "metadata": {},
   "outputs": [],
   "source": [
    "lastfm_tracks = set(track[0] for track in lastfm_tracks)"
   ]
  },
  {
   "cell_type": "code",
   "execution_count": null,
   "metadata": {},
   "outputs": [
    {
     "data": {
      "text/plain": [
       "203763"
      ]
     },
     "execution_count": 23,
     "metadata": {},
     "output_type": "execute_result"
    }
   ],
   "source": [
    "len(lastfm_tracks)"
   ]
  },
  {
   "cell_type": "code",
   "execution_count": null,
   "metadata": {},
   "outputs": [],
   "source": [
    "q = \"\"\"\n",
    "SELECT * FROM lastfm\n",
    ";\n",
    "\"\"\"\n",
    "\n",
    "cursor.execute(q)"
   ]
  },
  {
   "cell_type": "code",
   "execution_count": null,
   "metadata": {},
   "outputs": [],
   "source": [
    "lastfm = []\n",
    "batch = cursor.fetchmany(10000)\n",
    "while batch:\n",
    "    for row in batch:\n",
    "        if row[1] in lastfm_tracks:\n",
    "            lastfm.append(row)\n",
    "    batch = cursor.fetchmany(10000)"
   ]
  },
  {
   "cell_type": "code",
   "execution_count": null,
   "metadata": {},
   "outputs": [],
   "source": [
    "len(lastfm)"
   ]
  },
  {
   "cell_type": "code",
   "execution_count": null,
   "metadata": {},
   "outputs": [],
   "source": [
    "len(set(lastfm))"
   ]
  },
  {
   "cell_type": "code",
   "execution_count": null,
   "metadata": {},
   "outputs": [],
   "source": [
    "import pandas as pd\n",
    "\n",
    "columns = [\n",
    "    'username',\n",
    "    'artist_track',\n",
    "    'count'\n",
    "    ]\n",
    "\n",
    "df = pd.DataFrame(lastfm, columns=columns)\n",
    "\n",
    "X = df.values\n",
    "X[:,2] = X[:, 2].astype(int)\n",
    "\n",
    "# generate unique ids for track\n",
    "unique_artist_tracks = df['artist_track'].unique()\n",
    "\n",
    "# remembering the index of each artist_track\n",
    "ix_artist_track = dict(zip(unique_artist_tracks, range(len(unique_artist_tracks))))\n",
    "artist_track_ix = {v:k for k, v in ix_artist_track.items()}\n",
    "\n",
    "df['track_ix'] = df['artist_track'].apply(lambda x: ix_artist_track[x])\n",
    "\n",
    "# geneate unique ids for each username\n",
    "unique_usernames = df['username'].unique()\n",
    "ix_username = dict(zip(unique_usernames, range(len(unique_usernames))))\n",
    "df['username_ix'] = df['username'].apply(lambda x: ix_username[x])\n",
    "\n"
   ]
  },
  {
   "cell_type": "code",
   "execution_count": null,
   "metadata": {},
   "outputs": [],
   "source": [
    "df.head()"
   ]
  },
  {
   "cell_type": "code",
   "execution_count": null,
   "metadata": {},
   "outputs": [],
   "source": [
    "len(ix_artist_track)"
   ]
  },
  {
   "cell_type": "markdown",
   "metadata": {},
   "source": [
    "__Note:__\n",
    "\n",
    "To simplify things for now, and since each of these tracks are so-called 'top tracks', I will just use the fact that they were listened to at all instead of trying to weight it by how much they were listened to. This makes everything in the last column a 1, but this is a sparse formulation of the problem."
   ]
  },
  {
   "cell_type": "code",
   "execution_count": null,
   "metadata": {},
   "outputs": [],
   "source": [
    "# (row, column, values)\n",
    "\n",
    "rcv = ['username_ix', 'track_ix', 'count']\n",
    "X = df[rcv].astype(int).values\n",
    "X[:,2] = X[:,2].astype(bool).astype(int) # change values to be 1"
   ]
  },
  {
   "cell_type": "code",
   "execution_count": null,
   "metadata": {},
   "outputs": [],
   "source": [
    "X[:10]"
   ]
  },
  {
   "cell_type": "markdown",
   "metadata": {},
   "source": [
    "Let's see what Truncated SVD can do."
   ]
  },
  {
   "cell_type": "code",
   "execution_count": null,
   "metadata": {},
   "outputs": [],
   "source": [
    "from scipy.sparse import csr_matrix\n",
    "# csr_matrix((data, (row, col))\n",
    "row = X[:, 1]  # track_ixs\n",
    "col = X[:, 0]  # username_ixs \n",
    "data = X[:, 2] # always 1\n",
    "\n",
    "sparse_mat = csr_matrix((data, (row, col)))"
   ]
  },
  {
   "cell_type": "code",
   "execution_count": null,
   "metadata": {},
   "outputs": [],
   "source": [
    "sparse_mat.shape"
   ]
  },
  {
   "cell_type": "code",
   "execution_count": null,
   "metadata": {},
   "outputs": [],
   "source": [
    "from sklearn.decomposition import TruncatedSVD\n",
    "from sklearn.random_projection import sparse_random_matrix"
   ]
  },
  {
   "cell_type": "code",
   "execution_count": null,
   "metadata": {},
   "outputs": [],
   "source": [
    "tsvd = TruncatedSVD(n_components=10)\n",
    "\n",
    "tsvd.fit(sparse_mat) #(sparse_mat)"
   ]
  },
  {
   "cell_type": "code",
   "execution_count": null,
   "metadata": {},
   "outputs": [],
   "source": [
    "mat_tsvd = tsvd.transform(sparse_mat)"
   ]
  },
  {
   "cell_type": "code",
   "execution_count": null,
   "metadata": {},
   "outputs": [],
   "source": [
    "mat_tsvd.shape"
   ]
  },
  {
   "cell_type": "markdown",
   "metadata": {},
   "source": [
    "### Making Recommendations\n",
    "\n",
    "I'm going to use cosine similarity to put similar songs and similar users together.\n"
   ]
  },
  {
   "cell_type": "code",
   "execution_count": 21,
   "metadata": {},
   "outputs": [
    {
     "data": {
      "text/plain": [
       "[(0.992267693335847, 15754),\n",
       " (0.9916363243034971, 13012),\n",
       " (0.9900208696782189, 50441),\n",
       " (0.9896575802415085, 155946),\n",
       " (0.989139122455639, 120523)]"
      ]
     },
     "execution_count": 21,
     "metadata": {},
     "output_type": "execute_result"
    }
   ],
   "source": [
    "from sklearn.metrics.pairwise import cosine_similarity\n",
    "\n",
    "def top_n_tracks(input_song, n):\n",
    "    input_song = input_song.reshape(1, 10)\n",
    "\n",
    "    num_songs = len(mat_tsvd)\n",
    "    similarity_list = sorted(zip(cosine_similarity(input_song, mat_tsvd)[0], range(num_songs)),\n",
    "                             reverse=True)\n",
    "    top_n = similarity_list[1:n+1] # the most similar will always be itself\n",
    "    return top_n\n",
    "\n",
    "sample_song = mat_tsvd[98451]\n",
    "top_n_tracks(sample_song, 5)\n",
    "\n"
   ]
  },
  {
   "cell_type": "code",
   "execution_count": 57,
   "metadata": {},
   "outputs": [
    {
     "data": {
      "text/plain": [
       "array([0.28344554, 0.5222011 , 0.19199564, ..., 0.12615911, 0.26012158,\n",
       "       0.22486764])"
      ]
     },
     "execution_count": 57,
     "metadata": {},
     "output_type": "execute_result"
    }
   ],
   "source": [
    "cosine_similarity(mat_tsvd[5].reshape(1, 10), mat_tsvd)[0]"
   ]
  },
  {
   "cell_type": "code",
   "execution_count": 39,
   "metadata": {},
   "outputs": [
    {
     "data": {
      "text/plain": [
       "[(0.9885333648109279, 25),\n",
       " (0.9845788384997816, 43),\n",
       " (0.9845583574335708, 133640),\n",
       " (0.9821669835813039, 24),\n",
       " (0.9820738661931745, 7256)]"
      ]
     },
     "execution_count": 39,
     "metadata": {},
     "output_type": "execute_result"
    }
   ],
   "source": [
    "sample_song = mat_tsvd[4]\n",
    "top_n_tracks(sample_song, 5)"
   ]
  },
  {
   "cell_type": "code",
   "execution_count": 53,
   "metadata": {},
   "outputs": [
    {
     "name": "stdout",
     "output_type": "stream",
     "text": [
      "Stereolab Chemical Chords\n",
      "\n"
     ]
    },
    {
     "data": {
      "text/plain": [
       "['Super Furry Animals The Very Best Of Neil Diamond',\n",
       " 'Super Furry Animals Atomik Lust',\n",
       " 'Mulatu Astatke Yegelle Tezeta',\n",
       " 'Dungen Du E för Fin för Mig',\n",
       " 'Stereolab Silver Sands',\n",
       " 'The Breeders German Studies',\n",
       " 'Stereolab Daisy Click Clack',\n",
       " 'Stereolab The Ecstatic Static',\n",
       " \"Cass McCombs What Isn't Nature\",\n",
       " 'Megapuss Theme from Hollywood',\n",
       " 'David Byrne and Brian Eno Strange Overtones',\n",
       " 'Stereolab Three Women',\n",
       " 'Stereolab Neon Beanbag',\n",
       " 'King Khan & The Shrines 69 Faces of Love',\n",
       " 'Pink Mountaintops New Drug Queens',\n",
       " 'Electrelane Bells',\n",
       " 'Clinic Tomorrow',\n",
       " 'King Khan & The Shrines I See Lights',\n",
       " 'Jeremy Jay Slow Dance',\n",
       " 'The Breeders No Way',\n",
       " 'France Gall Baby Pop',\n",
       " 'Atlas Sound Holiday',\n",
       " 'The Clientele 6am Morningside',\n",
       " 'Clinic Free Not Free',\n",
       " 'Autolux The Science Of Imaginary Solutions',\n",
       " 'Black Lips Slime & Oxygen',\n",
       " 'Thurston Moore Fri/End',\n",
       " 'Super Furry Animals Fire In My Heart',\n",
       " 'Black Lips Juvenile',\n",
       " 'はっぴいえんど Kaze Wo Atsumete']"
      ]
     },
     "execution_count": 53,
     "metadata": {},
     "output_type": "execute_result"
    }
   ],
   "source": [
    "sample_n = 55555\n",
    "sample_song = mat_tsvd[sample_n]\n",
    "print(artist_track_ix[sample_n])\n",
    "print()\n",
    "# convert ix to artist_track\n",
    "sim_tracks = [artist_track_ix[song[1]] for song in top_n_tracks(sample_song, 30)]\n",
    "sim_tracks"
   ]
  },
  {
   "cell_type": "code",
   "execution_count": 46,
   "metadata": {},
   "outputs": [
    {
     "data": {
      "text/plain": [
       "'Benoît Pioulard Weird Door'"
      ]
     },
     "execution_count": 46,
     "metadata": {},
     "output_type": "execute_result"
    }
   ],
   "source": [
    "artist_track_ix[4]"
   ]
  },
  {
   "cell_type": "markdown",
   "metadata": {},
   "source": [
    "### Defining a function to find most similar songs"
   ]
  },
  {
   "cell_type": "code",
   "execution_count": 23,
   "metadata": {},
   "outputs": [],
   "source": [
    "# match lower to lower_key\n",
    "# use lower_key to match on keys\n",
    "# --------------\n",
    "\n",
    "def find_similar_songs(artist_track):\n",
    "    \"\"\"\n",
    "    artist_track is string\n",
    "    \"\"\"\n",
    "    assert type(artist_track) == str\n",
    "    \n",
    "    if artist_track.lower() not in map(str.lower, ix_artist_track.keys()):\n",
    "        return 'Not in the thing'\n",
    "    \n",
    "    track_lower = artist_track.lower()\n",
    "    for song, ix in ix_artist_track.items():\n",
    "        if track_lower == song.lower():\n",
    "            song_ix = ix\n",
    "            \n",
    "    #song_ix = ix_artist_track[artist_track]\n",
    "    song = mat_tsvd[song_ix]\n",
    "\n",
    "    # convert ix to artist_track\n",
    "    sim_tracks = [artist_track_ix[sim_song[1]] for sim_song in top_n_tracks(song, 30)]\n",
    "    return sim_tracks"
   ]
  },
  {
   "cell_type": "code",
   "execution_count": 146,
   "metadata": {},
   "outputs": [
    {
     "data": {
      "text/plain": [
       "['St. Vincent The Party',\n",
       " 'St. Vincent The Strangers',\n",
       " 'St. Vincent Save Me From What I Want',\n",
       " 'St. Vincent The Bed',\n",
       " 'St. Vincent Black Rainbow',\n",
       " 'St. Vincent The Neighbors',\n",
       " 'St. Vincent Actor Out of Work',\n",
       " 'St. Vincent Human Racing',\n",
       " 'St. Vincent Just the Same But Brand New',\n",
       " 'St. Vincent Marrow',\n",
       " 'St. Vincent The Sequel',\n",
       " 'St. Vincent What Me Worry?',\n",
       " 'St. Vincent Your Lips Are Red',\n",
       " 'St. Vincent Now, Now',\n",
       " 'St. Vincent The Apocalypse Song',\n",
       " 'St. Vincent All My Stars Aligned',\n",
       " 'St. Vincent Jesus Saves, I Spend',\n",
       " 'St. Vincent We Put a Pearl in the Ground',\n",
       " 'St. Vincent Landmines',\n",
       " 'Joanna Newsom Good Intentions Paving Company',\n",
       " 'Jay Z & Kanye West Otis (Feat. Otis Redding)',\n",
       " 'Owen Pallett Lewis Takes Action',\n",
       " 'St. Vincent Marry Me',\n",
       " \"Joanna Newsom '81\",\n",
       " 'Owen Pallett Scandal At The Parkade',\n",
       " 'Owen Pallett Lewis Takes Off His Shirt',\n",
       " 'Dirty Projectors I Dreamed I Saw St. Augustine',\n",
       " 'Owen Pallett Midnight Directives',\n",
       " 'Dirty Projectors Stillness Is the Move',\n",
       " 'Joanna Newsom On a Good Day']"
      ]
     },
     "execution_count": 146,
     "metadata": {},
     "output_type": "execute_result"
    }
   ],
   "source": [
    "find_similar_songs('st. vincent laughing with a mouth of blood')"
   ]
  },
  {
   "cell_type": "markdown",
   "metadata": {},
   "source": [
    "### Finding similar users"
   ]
  },
  {
   "cell_type": "code",
   "execution_count": 41,
   "metadata": {},
   "outputs": [],
   "source": [
    "# find similarity between user and songs\n",
    "from scipy.sparse import csc_matrix\n",
    "from scipy.sparse.linalg import svds, eigs\n",
    "csc_mat = csc_matrix(sparse_mat.astype(float))\n",
    "u, s, t = svds(csc_mat, k=10)\n"
   ]
  },
  {
   "cell_type": "code",
   "execution_count": 152,
   "metadata": {},
   "outputs": [
    {
     "data": {
      "text/plain": [
       "['Eric Hutchinson Back To Where I Was',\n",
       " 'Eric Hutchinson Food Chain',\n",
       " \"Eric Hutchinson It Hasn't Been Long Enough\",\n",
       " \"Eric Hutchinson OK, It's Alright With Me\",\n",
       " 'Eric Hutchinson Oh!',\n",
       " 'Eric Hutchinson Outside Villanova',\n",
       " \"Eric Hutchinson Rock 'N' Roll\",\n",
       " \"Eric Hutchinson You Don't Have To Believe Me\",\n",
       " 'Evan and Jaron Crazy For This Girl',\n",
       " 'Fleetwood Mac Go Your Own Way',\n",
       " 'Flo Rida Right Round',\n",
       " 'Flo Rida Wild Ones - feat. Sia',\n",
       " 'George Michael Faith',\n",
       " 'George Michael One More Try',\n",
       " 'Get Set Go I Hate Everyone',\n",
       " 'Get Set Go Wait',\n",
       " 'Graham Colton Band First Week',\n",
       " 'Graham Colton Best Days',\n",
       " 'Guster Amsterdam',\n",
       " 'Guster Barrel of a Gun',\n",
       " 'Guster Careful',\n",
       " 'Guster Fa Fa',\n",
       " 'Guster Keep It Together',\n",
       " 'Guster One Man Wrecking Machine',\n",
       " 'Guster Perfect',\n",
       " 'Guster Satellite',\n",
       " 'Guster Two Points for Honesty',\n",
       " 'Hellogoodbye Here In Your Arms',\n",
       " 'Hilary Duff Why Not',\n",
       " 'Hot Hot Heat Goodnight Goodnight']"
      ]
     },
     "execution_count": 152,
     "metadata": {},
     "output_type": "execute_result"
    }
   ],
   "source": [
    "tracks = u\n",
    "users = t.T\n",
    "\n",
    "\n",
    "def get_recommendations_by_user(user, n=1):\n",
    "    \"\"\"\n",
    "    user is index\n",
    "    \"\"\"\n",
    "    \n",
    "    def top_users(input_user, n):\n",
    "        input_user = input_user.reshape(1, 10)\n",
    "\n",
    "        num_users = len(users)\n",
    "        similarity_list = sorted(zip(cosine_similarity(input_user, users)[0], range(num_users)),\n",
    "                                 reverse=True)\n",
    "        top_n = similarity_list[1:n+1] # the most similar will always be itself\n",
    "        return top_n\n",
    "\n",
    "    #song_ix = ix_artist_track[artist_track]\n",
    "    user_info = users[user]\n",
    "\n",
    "    # convert ix to artist_track\n",
    "    sim_users = [sim_user[1] for sim_user in top_users(user_info, n)]\n",
    "    \n",
    "    # let's implement just recommending the songs for the most similar users\n",
    "    closest_user = sim_users[0]\n",
    "    \n",
    "    closest_user_tracks = set(df[df.username_ix == closest_user].track_ix.values)\n",
    "    user_tracks = set(df[df.username_ix == user].track_ix.values)\n",
    "    recommendations = closest_user_tracks - (user_tracks & closest_user_tracks)\n",
    "    recs = [artist_track_ix[rec] for rec in recommendations]\n",
    "    \n",
    "    return recs\n",
    "\n",
    "sorted(get_recommendations_by_user(90))[100:130]\n"
   ]
  },
  {
   "cell_type": "code",
   "execution_count": 1,
   "metadata": {},
   "outputs": [],
   "source": [
    "# see compare songs that are recommended to songs that are near the user\n",
    "def eval_user(ix):\n",
    "    sim_songs = set(get_reccomendations_by_user(ix, 100))\n",
    "\n",
    "    print('RECOMMENDATIONS')\n",
    "    print('=================')\n",
    "    for song in sorted(sim_songs):\n",
    "        print(song)\n",
    "    print()\n",
    "    print('User\\'s Top Songs')\n",
    "    print('==================')\n",
    "    print(df[df.username_ix == ix].artist_track.sort_values().values)\n",
    "    \n",
    "#     # find songs in common\n",
    "#     mask = ((df.username_ix == ix) & (df.artist_track.apply(lambda x: x in sim_songs)))\n",
    "    \n",
    "#     print()\n",
    "#     print('Recommendations already listened to')\n",
    "#     print('===================================')\n",
    "#     print(df[mask].artist_track)\n",
    "#     print('\\n\\n')"
   ]
  },
  {
   "cell_type": "code",
   "execution_count": 111,
   "metadata": {},
   "outputs": [
    {
     "name": "stdout",
     "output_type": "stream",
     "text": [
      "RECOMMENDATIONS\n",
      "=================\n",
      "6th Borough Project Do It to the Max\n",
      "Adrian Johnston Always summer\n",
      "An April March Chick Habit\n",
      "Anoraak Nightdrive With You (Fear of Tigers remix)\n",
      "Appaloosa The Day (We Fell In Love)\n",
      "Astrud Gilberto Photograph\n",
      "Au Palais Tender Mercy\n",
      "Azure Blue The Catcher in the Rye\n",
      "Baxter Dury Cocaine Man\n",
      "Boom Clap Bachelors Løb Stop Stå (feat. Coco O.)\n",
      "Boy Friend Lazy Hunter\n",
      "Boy Friend The False Cross\n",
      "Burning Hearts Into the Wilderness\n",
      "Bye Bye Bicycle Haby Bay\n",
      "Bye Bye Bicycle Navigation\n",
      "Ceo Everything Is Gonna Be Alright\n",
      "Chromatics I'm On Fire\n",
      "CocoRosie Lemonade - Edit\n",
      "Cold Mailman Pull Yourself Together And Fall In Love With Me\n",
      "College Feat. Electric Youth A Real Hero\n",
      "Death in Vegas Hands Around My Throat - D.I.V.\n",
      "Desire Dans Mes Reves\n",
      "Desire Don't Call\n",
      "Electric Youth WeAreTheYouth\n",
      "Erasure Blue Savannah\n",
      "Esben and the Witch Skeleton Swoon\n",
      "FM Belfast I Don't Want To Go To Sleep Either\n",
      "FM Belfast Lotus\n",
      "FM Belfast Pump\n",
      "FM Belfast VHS\n",
      "Fan Death Cannibal\n",
      "Gepe Victoria Roma\n",
      "Groove Armada Shameless (feat. Bryan Ferry)\n",
      "High Highs Milan\n",
      "Husky Rescue Sound of Love\n",
      "I Blame Coco Party Bag\n",
      "I Break Horses Denial\n",
      "I Break Horses No Way (outro)\n",
      "I Break Horses Winter Beats\n",
      "Jack Peñate Tonight’s Today\n",
      "Jonathan Johansson Aldrig ensam\n",
      "Jonathan Johansson Stockholm\n",
      "Julie London I'm in the Mood for Love\n",
      "Karen Elson The Ghost Who Walks\n",
      "Karl X Johan Flames\n",
      "Kendal Johansson Blue Moon\n",
      "La Femme Françoise\n",
      "Le Sport Tell no one about tonight\n",
      "Lescop La Forêt\n",
      "Light Asylum Shallow Tears\n",
      "M83 Up !\n",
      "Magic Wands Black Magic\n",
      "Masquer Happiness\n",
      "Memory Tapes Yes I Know\n",
      "Minks Weekenders\n",
      "Molly Nilsson Skybound\n",
      "My Mine Hypnotic Tango\n",
      "Nordpolen Skimret\n",
      "Pallers Come Rain, Come Sunshine\n",
      "Prinzhorn Dance School I Want You\n",
      "Regina Haluan sinut\n",
      "Regina Mustavalkeaa\n",
      "Regina Unessa\n",
      "Russian Red The Sun The Trees\n",
      "Ruth Polaroïd/Roman/Photo\n",
      "Röyksopp What Else Is There ?\n",
      "School of Seven Bells I L U\n",
      "She Keeps Bees Gimmie\n",
      "Shit Robot Losing My Patience\n",
      "Speech Debelle Spinnin'\n",
      "Still Corners Circulars\n",
      "Still Corners Cuckoo\n",
      "Still Corners Don't Fall In Love\n",
      "Still Corners Endless Summer\n",
      "Still Corners Into the Trees\n",
      "Still Corners Submarine\n",
      "Still Corners The Twilight Hour\n",
      "Still Corners The White Season\n",
      "Säkert! Stetoskop\n",
      "Talk Talk Talk Talk\n",
      "The Cardigans Happy Meal II\n",
      "The Cardigans Step On Me\n",
      "The Glimmers Physical\n",
      "The Go! Team Rolling Blackouts\n",
      "The Good Natured Your Body Is a Machine\n",
      "The Mary Onettes Evil Coast\n",
      "The Mary Onettes Silence Is A Gun\n",
      "The Phenomenal Handclap Band You'll Disappear\n",
      "The Raveonettes I Wanna Be Adored\n",
      "The Tough Alliance 1981\n",
      "The Tough Alliance Holiday\n",
      "The Tough Alliance Make It Happen\n",
      "The Tough Alliance The New School\n",
      "Trails and Ways Skeletons\n",
      "Warpaint Beetles\n",
      "Warpaint Billie Holiday\n",
      "White Wishes Hold Your Hand\n",
      "Widowspeak Thick as Thieves\n",
      "a-ha Manhattan Skyline\n",
      "a-ha The Swing of Things\n",
      "\n",
      "User's Top Songs\n",
      "==================\n",
      "['1990s Arcade Precinct' '1990s You Made Me Like It'\n",
      " \"1990s You're Supposed To Be My Friend\"\n",
      " \"2Pac Hit 'Em Up - Single Version (Explicit)\" '808 State Pacific 202'\n",
      " 'A Smile and a Ribbon Book Cover' 'ABC Poison Arrow' 'ABC Show Me'\n",
      " 'Acid House Kings Mondays Are Like Tuesdays'\n",
      " 'Acid House Kings Say Yes If You Love Me'\n",
      " 'Acid House Kings This Heart Is a Stone' 'Air France Beach Party'\n",
      " 'Air France June Evenings' 'Air France Karibien'\n",
      " 'Air France Never Content' 'Air France No Excuses'\n",
      " 'Air France No Way Down' 'Air How Does It Make You Feel'\n",
      " 'AlunaGeorge You Know You Like It' 'AlunaGeorge Your Drums, Your Love'\n",
      " 'Amy Winehouse Tears Dry on Their Own' 'Aphex Twin Xtal'\n",
      " \"Ariel Pink's Haunted Graffiti Baby\"\n",
      " \"Ariel Pink's Haunted Graffiti Driftwood\"\n",
      " \"Ariel Pink's Haunted Graffiti Early Birds of Babylon\"\n",
      " \"Ariel Pink's Haunted Graffiti Farewell American Primitive\"\n",
      " \"Ariel Pink's Haunted Graffiti Is This the Best Spot?\"\n",
      " \"Ariel Pink's Haunted Graffiti Kinski Assassin\"\n",
      " \"Ariel Pink's Haunted Graffiti Live It Up\"\n",
      " \"Ariel Pink's Haunted Graffiti Mature Themes\"\n",
      " \"Ariel Pink's Haunted Graffiti Nostradamus & Me\"\n",
      " \"Ariel Pink's Haunted Graffiti Only in My Dreams\"\n",
      " \"Ariel Pink's Haunted Graffiti Pink Slime\"\n",
      " \"Ariel Pink's Haunted Graffiti Round and Round\"\n",
      " \"Ariel Pink's Haunted Graffiti Symphony of the Nymph\"\n",
      " 'Art of Noise Moments in Love' 'Aztec Camera Oblivious'\n",
      " 'Aztec Camera Walk Out To Winter' 'Badly Drawn Boy Fall in a River'\n",
      " 'Badly Drawn Boy Once Around the Block' 'Badly Drawn Boy Silent Sigh'\n",
      " 'Badly Drawn Boy Something To Talk About' 'Bastille Pompeii'\n",
      " 'Billie the Vision & the Dancers Good And Bad'\n",
      " 'Billie the Vision & the Dancers Nobel Square'\n",
      " 'Billie the Vision & the Dancers Summercat'\n",
      " \"Black Kids I'm Not Gonna Teach Your Boyfriend How to Dance With You\"\n",
      " 'Blur For Tomorrow' 'Boat Club Memories' 'Boat Club Spanish Castles'\n",
      " 'Boat Club warmer climes' 'Calvin Harris Ready for the Weekend'\n",
      " 'Calvin Harris Sweet Nothing' 'Cats On Fire Born Again Christian'\n",
      " 'Ceo Come With Me' 'Chairlift Bruises' 'Chairlift I Belong in Your Arms'\n",
      " 'Chairlift Planet Health' 'Club 8 Everlasting love'\n",
      " 'Club 8 Whatever You Want' 'Coldplay Fix You'\n",
      " 'Coldplay Hurts Like Heaven' 'Coldplay Viva la Vida'\n",
      " 'Comet Gain The Fists in the Pocket' 'Cut Copy Hearts On Fire'\n",
      " 'Cut Copy So Haunted' 'Daft Punk Get Lucky - Radio Edit'\n",
      " \"Daryl Hall & John Oates I Can't Go For That (No Can Do)\"\n",
      " 'David Bowie Where Are We Now?' 'Disclosure White Noise'\n",
      " 'Doves Black and White Town' 'Doves Jetstream'\n",
      " 'Doves There Goes The Fear' 'Drake Over My Dead Body' 'Drake Take Care'\n",
      " \"Ed Sheeran You Need Me, I Don't Need You\"\n",
      " 'Empire of the Sun Walking on a Dream'\n",
      " 'Everything Everything MY KZ, UR BF' 'Felt Primitive Painters'\n",
      " 'Felt Sunlight Bathed the Golden Glow' 'Fleetwood Mac Albatross'\n",
      " 'Four Tet Angel Echoes' 'Four Tet My Angel Rocks Back and Forth'\n",
      " 'Frank Ocean Super Rich Kids' 'Frank Ocean Sweet Life'\n",
      " 'Friendly Fires Jump in the Pool'\n",
      " 'Friendly Fires Jump in the Pool (Thin White Duke Remix)'\n",
      " 'Friendly Fires Live Those Days Tonight' 'Friendly Fires Paris'\n",
      " 'Friendly Fires Skeleton Boy (Air France Remix)' 'Friendly Fires Strobe'\n",
      " 'George Michael Too Funky' 'Get Cape. Wear Cape. Fly I-Spy'\n",
      " 'Get Cape. Wear Cape. Fly Whitewash Is Brainwash'\n",
      " \"Glasvegas Daddy's Gone\" 'Goldfrapp Rocket' \"HAIM Don't Save Me\"\n",
      " 'HAIM Forever' 'Herman Düne I wish that I could see you soon'\n",
      " 'Jack Penate Torn On The Platform' 'James Born Of Frustration'\n",
      " 'James Yuill No Surprise' 'James Yuill This Sweet Love'\n",
      " 'Jens Lekman A Postcard to Nina' 'Jens Lekman An Argument With Myself'\n",
      " \"Jens Lekman Become Someone Else's\" 'Jens Lekman Erica America'\n",
      " 'Jens Lekman Every Little Hair Knows Your Name'\n",
      " 'Jens Lekman Friday Night at the Drive-In Bingo'\n",
      " \"Jens Lekman I Know What Love Isn't\"\n",
      " \"Jens Lekman I'm Leaving You Because I Don't Love You\"\n",
      " 'Jens Lekman Sipping On The Sweet Nectar'\n",
      " 'Jens Lekman Some Dandruff on Your Shoulder'\n",
      " 'Jens Lekman The Opposite of Hallelujah'\n",
      " 'Jens Lekman Your Arms Around Me' 'Jessie Ware 110%'\n",
      " 'Jessie Ware Devotion' \"Jessie Ware If You're Never Gonna Move\"\n",
      " 'Jessie Ware Imagine It Was Us' 'Jessie Ware Night Light'\n",
      " 'Jessie Ware No to Love' 'Jessie Ware Running'\n",
      " 'Jessie Ware Something Inside' 'Jessie Ware Still Love Me'\n",
      " 'Jessie Ware Swan Song' 'Jessie Ware Sweet Talk'\n",
      " 'Jessie Ware Taking in Water' 'Jessie Ware Wildest Moments'\n",
      " 'Junior Boys High Come Down' 'Just Jack Starz in their Eyes'\n",
      " \"Juvelen Don't Mess\" 'Juvelen Hanna' 'Juvelen Watch Your Step'\n",
      " 'Kate Bush Running Up That Hill (A Deal With God)' 'Kate Nash Birds'\n",
      " \"Kate Nash Caroline's A Victim\" 'Kings of Convenience Failure'\n",
      " \"Kings of Convenience I Don't Know What I Can Save You From\"\n",
      " \"Kings of Convenience I Don't Know What I Can Save You From - Röyksopp Remix\"\n",
      " 'Kings of Convenience Leaning Against The Wall'\n",
      " 'Kings of Convenience Little Kids'\n",
      " 'Kings of Convenience Singing Softly To Me'\n",
      " 'Kings of Convenience The Girl From Back Then'\n",
      " 'Kings of Convenience The Weight Of My Words'\n",
      " 'Kings of Convenience Toxic Girl'\n",
      " 'Kings of Convenience Winning A Battle, Losing The War' 'Kisses Bermuda'\n",
      " 'Kisses Kisses' 'Kleerup Thank You For Nothing' 'Korallreven Honey Mine'\n",
      " 'Korallreven The Truest Faith' 'LL Cool J Mama Said Knock You Out'\n",
      " 'Ladyhawke Back of the Van' 'Ladyhawke Dusk Till Dawn'\n",
      " 'Lake Heartbeat Golden Chain' 'Late of the Pier Broken'\n",
      " 'Lucky Soul Add Your Light To Mine, Baby' 'Lucky Soul Lips Are Unhappy'\n",
      " 'Lucky Soul My Darling, Anything'\n",
      " \"Lucky Soul One Kiss Don't Make a Summer\" 'M.I.A. Jimmy'\n",
      " 'M.I.A. Paper Planes' 'M83 Claudia Lewis' 'M83 Graveyard Girl'\n",
      " 'M83 Midnight City' 'M83 Reunion'\n",
      " \"Manic Street Preachers Love's Sweet Exile\" 'Massive Attack Teardrop'\n",
      " 'Massive Attack Unfinished Sympathy - 2006 Digital Remaster'\n",
      " 'Mercury Rev Delta Sun Bottleneck Stomp' 'Metronomy My Heart Rate Rapid'\n",
      " 'Metronomy Radio Ladio' 'Metronomy The Look'\n",
      " 'Morning Runner Gone Up In Flames' 'Mystery Jets Two Doors Down'\n",
      " 'New Order Age of Consent' 'New Order Bizarre Love Triangle'\n",
      " 'New Order Love Vigilantes' 'New Order Regret' 'New Order Temptation'\n",
      " 'New Radicals You Get What You Give' 'Nick Drake Free Ride'\n",
      " 'Nick Drake From the Morning' 'Nick Drake Harvest Breed'\n",
      " 'Nick Drake Horn' 'Nick Drake Know'\n",
      " 'Nick Drake One of These Things First' 'Nick Drake Parasite'\n",
      " 'Nick Drake Pink Moon' 'Nick Drake Place to Be' 'Nick Drake River Man'\n",
      " 'Nick Drake Road' 'Nick Drake Things Behind the Sun'\n",
      " 'Nick Drake Which Will' 'Noah and the Whale 5 Years Time'\n",
      " 'Noah and the Whale Beating' 'Noah and the Whale Mary'\n",
      " 'Noah and the Whale Rocks And Daggers' 'One Night Only Just For Tonight'\n",
      " 'Orange Juice Falling and Laughing' 'Orange Juice Rip It Up'\n",
      " 'Orange Juice Satellite City' 'Orange Juice Wan Light'\n",
      " 'Phoenix If I Ever Feel Better' 'Phoenix Too Young' 'Pixies Debaser'\n",
      " 'Popsicle Hey Princess' \"Primal Scream I'm Comin' Down\"\n",
      " \"Primal Scream Movin' On Up\" 'Primal Scream Rocks'\n",
      " 'Primal Scream Velocity Girl'\n",
      " 'Prince I Wanna Be Your Lover [Single Version]'\n",
      " 'Propellerheads Take California'\n",
      " 'Red House Painters Grace Cathedral Park' 'Red House Painters Katy Song'\n",
      " 'Rihanna We Found Love' 'Rizzle Kicks Down With The Trumpets'\n",
      " 'Robyn Hang with Me' 'Ronan Keating Life Is a Rollercoaster'\n",
      " 'Roots Manuva Dreamy Days' 'Roots Manuva Witness (1 Hope)'\n",
      " \"Saint Etienne I've Got Your Music\" 'Saint Etienne Nothing Can Stop Us'\n",
      " 'Saint Etienne Only Love Can Break Your Heart'\n",
      " 'Saint Etienne Over the Border' 'Saint Etienne Spring'\n",
      " 'Sam Sparro Black and Gold' 'Scritti Politti Absolute'\n",
      " 'Sea of Bees Skinnybone' 'Sea of Bees Willis' 'Sea of Bees Wizbot'\n",
      " 'Shout Out Louds 14th of July' 'Shout Out Louds Blue Ice'\n",
      " 'Shout Out Louds Illusions' 'Shout Out Louds Impossible'\n",
      " 'Shout Out Louds Sugar' 'Shout Out Louds Walking In Your Footsteps'\n",
      " 'Sigur Ros Hoppípolla' \"Simple Minds Don't You (Forget About Me)\"\n",
      " 'Suede Barriers' 'Suede For the Strangers' 'Suede Hit Me'\n",
      " 'Suede It Starts and Ends With You' 'Suede Sabotage' 'Suede Snowblind'\n",
      " 'Summer Camp Better Off Without You' 'Super Furry Animals Hello Sunshine'\n",
      " 'Super Furry Animals Ice Hockey Hair'\n",
      " 'Super Furry Animals Juxtapozed With U' 'Survivor Eye of the Tiger'\n",
      " 'Sweet Female Attitude Flowers - Sunship Edit'\n",
      " 'Tears for Fears Everybody Wants to Rule the World'\n",
      " 'The 2 Bears Be Strong' 'The 2 Bears Bear Hug'\n",
      " 'The Answering Machine Oh, Christina' 'The Answering Machine Oklahoma'\n",
      " 'The Boy Least Likely To Be Gentle With Me'\n",
      " 'The Chemical Brothers Asleep From Day' 'The Clash Revolution Rock'\n",
      " 'The Clash Rock the Casbah' 'The Clash Train in Vain'\n",
      " 'The Clientele Bonfires On The Heath' 'The Clientele Bookshop Casanova'\n",
      " 'The Clientele E.M.P.T.Y.'\n",
      " 'The Clientele From Brighton Beach to Santa Monica'\n",
      " 'The Clientele Harvest Time' 'The Clientele Here Comes the Phantom'\n",
      " 'The Clientele I Hope I Know You' 'The Clientele I Wonder Who We Are'\n",
      " \"The Clientele Isn't Life Strange?\" 'The Clientele K'\n",
      " 'The Clientele Never Anyone But You' 'The Clientele Share The Night'\n",
      " 'The Clientele Since K Got Over Me' 'The Clientele Somebody Changed'\n",
      " 'The Clientele The Dance of the Hours'\n",
      " 'The Clientele The Queen of Seville' 'The Clientele The Violet Hour'\n",
      " \"The Cure Boys Don't Cry\" 'The Drums Book Of Stories'\n",
      " 'The Drums Me And The Moon' 'The Embassy Flipside of a Memory'\n",
      " 'The Embassy Some indulgence' 'The Honeydrips It Was A Sunny Summer Day'\n",
      " 'The KLF A Melody From a Past Life Keeps Pulling Me Back'\n",
      " 'The KLF Brownsville Turnaround on the Tex-Mex Border'\n",
      " 'The KLF Dream Time in Lake Jackson'\n",
      " 'The KLF Elvis on the Radio, Steel Guitar in My Soul'\n",
      " 'The KLF Madrugada Eterna'\n",
      " 'The KLF Pulling Out of Ricardo and the Dusk Is Falling Fast'\n",
      " 'The KLF Rock Radio Into the Nineties and Beyond'\n",
      " 'The KLF Six Hours to Louisiana, Black Coffee Going Cold'\n",
      " 'The KLF The Lights of Baton Rouge Pass By'\n",
      " 'The KLF Trancentral Lost in My Mind'\n",
      " 'The KLF Wichita Lineman Was a Song I Once Heard'\n",
      " 'The Libertines Don’t Look Back Into The Sun'\n",
      " 'The Libertines Time for Heroes' 'The Notorious B.I.G. Juicy'\n",
      " 'The Orb Little Fluffy Clouds'\n",
      " 'The Pains of Being Pure at Heart Come Saturday'\n",
      " 'The Pains of Being Pure at Heart Young Adult Friction'\n",
      " 'The Radio Dept. David' 'The Radio Dept. Domestic Scene'\n",
      " 'The Radio Dept. Every Time' \"The Radio Dept. Heaven's On Fire\"\n",
      " 'The Radio Dept. I Wanted You To Feel The Same'\n",
      " 'The Radio Dept. Pet Grief' 'The Radio Dept. Too Soon'\n",
      " 'The Rapture How Deep Is Your Love?' 'The Rapture I Need Your Love'\n",
      " \"The Rolling Stones (I Can't Get No) Satisfaction - (Original Single Mono Version)\"\n",
      " 'The Rumble Strips Girls And Boys In Love'\n",
      " 'The Smiths There Is a Light That Never Goes Out' \"The Soft Pack C'mon\"\n",
      " 'The Soft Pack Down On Loving' 'The Stone Roses Elephant Stone'\n",
      " 'The Stone Roses I Am the Resurrection'\n",
      " 'The Stone Roses She Bangs the Drums' 'The Stone Roses This Is the One'\n",
      " 'The Stone Roses Waterfall' 'The Streets Weak Become Heroes'\n",
      " 'The Temper Trap Sweet Disposition' 'The Thrills The Midnight Choir'\n",
      " \"The Tough Alliance 25 Years And Runnin'\"\n",
      " 'The Tough Alliance A New Chance' 'The Tough Alliance First Class Riot'\n",
      " 'The Tough Alliance Koka-Kola Veins' 'The Tough Alliance Miami'\n",
      " 'The Tough Alliance Neo Violence' 'The Tough Alliance Silly Crimes'\n",
      " 'The Tough Alliance Something Special' 'The Vaccines If You Wanna'\n",
      " 'The Wombats Moving To New York' 'The xx Angels' 'The xx Chained'\n",
      " 'The xx Crystalised' 'The xx Fiction' 'The xx Infinity' 'The xx Intro'\n",
      " 'The xx Islands' 'The xx Reunion' 'The xx Sunset' 'The xx Try'\n",
      " 'The xx VCR' 'This Mortal Coil Song to the Siren'\n",
      " 'Those Dancing Days 1000 Words' 'Those Dancing Days Hitten'\n",
      " \"Those Dancing Days I'll Be Yours\" 'Those Dancing Days Tasty Boy'\n",
      " 'Those Dancing Days Those Dancing Days' 'Tricky Overcome'\n",
      " 'Underworld Two Months Off' 'Vampire Weekend Obvious Bicycle'\n",
      " 'Vampire Weekend Step' 'Vampire Weekend Unbelievers'\n",
      " 'Washed Out New Theory' 'Wax Stag Short Road' 'We Have Band Divisive'\n",
      " 'Wham! Club Tropicana' 'White Lies Death' 'White Lies From the Stars']\n",
      "\n",
      "Recommendations already listened to\n",
      "===================================\n",
      "Series([], Name: artist_track, dtype: object)\n",
      "\n",
      "\n",
      "\n"
     ]
    }
   ],
   "source": [
    "eval_user(567)"
   ]
  },
  {
   "cell_type": "code",
   "execution_count": 83,
   "metadata": {},
   "outputs": [
    {
     "data": {
      "text/html": [
       "<div>\n",
       "<style scoped>\n",
       "    .dataframe tbody tr th:only-of-type {\n",
       "        vertical-align: middle;\n",
       "    }\n",
       "\n",
       "    .dataframe tbody tr th {\n",
       "        vertical-align: top;\n",
       "    }\n",
       "\n",
       "    .dataframe thead th {\n",
       "        text-align: right;\n",
       "    }\n",
       "</style>\n",
       "<table border=\"1\" class=\"dataframe\">\n",
       "  <thead>\n",
       "    <tr style=\"text-align: right;\">\n",
       "      <th></th>\n",
       "      <th>username</th>\n",
       "      <th>artist_track</th>\n",
       "      <th>count</th>\n",
       "      <th>track_ix</th>\n",
       "      <th>username_ix</th>\n",
       "    </tr>\n",
       "  </thead>\n",
       "  <tbody>\n",
       "    <tr>\n",
       "      <th>0</th>\n",
       "      <td>PornGroove</td>\n",
       "      <td>Tame Impala Desire Be Desire Go</td>\n",
       "      <td>34</td>\n",
       "      <td>0</td>\n",
       "      <td>0</td>\n",
       "    </tr>\n",
       "    <tr>\n",
       "      <th>1</th>\n",
       "      <td>PornGroove</td>\n",
       "      <td>Tame Impala It's Not Meant To Be</td>\n",
       "      <td>34</td>\n",
       "      <td>1</td>\n",
       "      <td>0</td>\n",
       "    </tr>\n",
       "    <tr>\n",
       "      <th>2</th>\n",
       "      <td>PornGroove</td>\n",
       "      <td>Tame Impala Why Won't They Talk To Me?</td>\n",
       "      <td>34</td>\n",
       "      <td>2</td>\n",
       "      <td>0</td>\n",
       "    </tr>\n",
       "    <tr>\n",
       "      <th>3</th>\n",
       "      <td>PornGroove</td>\n",
       "      <td>Air Eat My Beat</td>\n",
       "      <td>33</td>\n",
       "      <td>3</td>\n",
       "      <td>0</td>\n",
       "    </tr>\n",
       "    <tr>\n",
       "      <th>4</th>\n",
       "      <td>PornGroove</td>\n",
       "      <td>Benoît Pioulard Weird Door</td>\n",
       "      <td>33</td>\n",
       "      <td>4</td>\n",
       "      <td>0</td>\n",
       "    </tr>\n",
       "  </tbody>\n",
       "</table>\n",
       "</div>"
      ],
      "text/plain": [
       "     username                            artist_track count  track_ix  \\\n",
       "0  PornGroove         Tame Impala Desire Be Desire Go    34         0   \n",
       "1  PornGroove        Tame Impala It's Not Meant To Be    34         1   \n",
       "2  PornGroove  Tame Impala Why Won't They Talk To Me?    34         2   \n",
       "3  PornGroove                         Air Eat My Beat    33         3   \n",
       "4  PornGroove              Benoît Pioulard Weird Door    33         4   \n",
       "\n",
       "   username_ix  \n",
       "0            0  \n",
       "1            0  \n",
       "2            0  \n",
       "3            0  \n",
       "4            0  "
      ]
     },
     "execution_count": 83,
     "metadata": {},
     "output_type": "execute_result"
    }
   ],
   "source": [
    "cosine_similarity()"
   ]
  },
  {
   "cell_type": "code",
   "execution_count": 143,
   "metadata": {},
   "outputs": [
    {
     "data": {
      "text/plain": [
       "array([[0.73556484]])"
      ]
     },
     "execution_count": 143,
     "metadata": {},
     "output_type": "execute_result"
    }
   ],
   "source": [
    "cosine_similarity(t.T[0].reshape(1, -1), t.T[39].reshape(1, -1))"
   ]
  },
  {
   "cell_type": "code",
   "execution_count": null,
   "metadata": {},
   "outputs": [],
   "source": []
  }
 ],
 "metadata": {
  "kernelspec": {
   "display_name": "Python 3",
   "language": "python",
   "name": "python3"
  },
  "language_info": {
   "codemirror_mode": {
    "name": "ipython",
    "version": 3
   },
   "file_extension": ".py",
   "mimetype": "text/x-python",
   "name": "python",
   "nbconvert_exporter": "python",
   "pygments_lexer": "ipython3",
   "version": "3.7.1"
  }
 },
 "nbformat": 4,
 "nbformat_minor": 2
}
